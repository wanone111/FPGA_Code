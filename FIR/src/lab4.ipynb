{
 "cells": [
  {
   "cell_type": "code",
   "execution_count": null,
   "id": "52acd184",
   "metadata": {},
   "outputs": [],
   "source": [
    "from pynq import Overlay, allocate\n",
    "from scipy.fftpack import fft, fftshift\n",
    "from scipy.signal import freqz\n",
    "import time\n",
    "import matplotlib.pyplot as plt\n",
    "import numpy as np"
   ]
  },
  {
   "cell_type": "markdown",
   "id": "6b1a1578",
   "metadata": {},
   "source": [
    "### 加载 Overlay"
   ]
  },
  {
   "cell_type": "code",
   "execution_count": null,
   "id": "393cf4d0",
   "metadata": {},
   "outputs": [],
   "source": [
    "overlay = Overlay(\"lab4.bit\")"
   ]
  },
  {
   "cell_type": "markdown",
   "id": "0e98393a",
   "metadata": {},
   "source": [
    "### 加载数据"
   ]
  },
  {
   "cell_type": "code",
   "execution_count": null,
   "id": "a689d39c",
   "metadata": {},
   "outputs": [],
   "source": [
    "x = np.load(\"x.npy\")\n",
    "coeff = np.load(\"coeff.npy\")\n",
    "fs = 44100\n",
    "N = len(x)\n",
    "print(\"数据长度: %d\"%N)\n",
    "print(\"采样率: %d Hz\"%fs)"
   ]
  },
  {
   "cell_type": "code",
   "execution_count": null,
   "id": "a0a8e009",
   "metadata": {},
   "outputs": [],
   "source": [
    "x_fft = fft(x)\n",
    "x_fft_abs = np.array(np.abs(x_fft)/N*2)[0:N//2]\n",
    "freqs, resp = freqz(coeff, 1)\n",
    "freq = (fs/N) * np.array(range(0, N//2))\n",
    "freq_coeff = np.linspace(0, fs/2.0, len(np.abs(resp)))\n",
    "plt.figure(figsize=(15, 5))\n",
    "plt.plot(freq, x_fft_abs/x_fft_abs.max())\n",
    "plt.plot(freq_coeff, abs(resp/resp.max()))"
   ]
  },
  {
   "cell_type": "markdown",
   "id": "a84ce17a",
   "metadata": {},
   "source": [
    "### 分配内存"
   ]
  },
  {
   "cell_type": "code",
   "execution_count": null,
   "id": "acd6ce31",
   "metadata": {},
   "outputs": [],
   "source": [
    "sample_len = len(x)\n",
    "x_buffer = allocate(shape=(sample_len,), dtype=np.int32)\n",
    "y_buffer = allocate(shape=(sample_len,), dtype=np.int32)\n",
    "coef_buffer = allocate(shape=(99,), dtype=np.int32)"
   ]
  },
  {
   "cell_type": "code",
   "execution_count": null,
   "id": "5a83980a",
   "metadata": {},
   "outputs": [],
   "source": [
    "np.copyto(x_buffer, x)\n",
    "np.copyto(coef_buffer, coeff)"
   ]
  },
  {
   "cell_type": "markdown",
   "id": "f0943021",
   "metadata": {},
   "source": [
    "### 配置IP"
   ]
  },
  {
   "cell_type": "code",
   "execution_count": null,
   "id": "4abcf498",
   "metadata": {},
   "outputs": [],
   "source": [
    "fir = overlay.fir_top_0\n",
    "fir.write(0x1c, x_buffer.physical_address)\n",
    "fir.write(0x10, y_buffer.physical_address)\n",
    "fir.write(0x28, coef_buffer.physical_address)\n",
    "fir.write(0x34, sample_len)"
   ]
  },
  {
   "cell_type": "markdown",
   "id": "dc86e7f0",
   "metadata": {},
   "source": [
    "### 启动IP"
   ]
  },
  {
   "cell_type": "code",
   "execution_count": null,
   "id": "6d1dd505",
   "metadata": {},
   "outputs": [],
   "source": [
    "fir.write(0x00, 0x01)\n",
    "ap_done = 0\n",
    "while(ap_done == 0):\n",
    "    ap_done = fir.read(0x00) >> 1 & 0x1"
   ]
  },
  {
   "cell_type": "code",
   "execution_count": null,
   "id": "fa9d5bed",
   "metadata": {},
   "outputs": [],
   "source": [
    "y_fft = fft(y_buffer)\n",
    "y_fft_abs = np.array(np.abs(y_fft)/N*2)[0:N//2]\n",
    "plt.figure(figsize=(15, 5))\n",
    "plt.plot(freq, y_fft_abs/y_fft_abs.max())"
   ]
  },
  {
   "cell_type": "markdown",
   "id": "ad9f5075",
   "metadata": {},
   "source": [
    "### 速度测试"
   ]
  },
  {
   "cell_type": "code",
   "execution_count": null,
   "id": "0b5404cf",
   "metadata": {},
   "outputs": [],
   "source": [
    "start_time = time.time()\n",
    "for i in range(100):\n",
    "    ap_done = 0\n",
    "    fir.write(0x00, 0x01)\n",
    "    while(ap_done == 0):\n",
    "        ap_done = fir.read(0x00) >> 1 & 0x1\n",
    "end_time = time.time()\n",
    "print(\"平均延迟: %f ms\"%((end_time-start_time)*1000/100))"
   ]
  },
  {
   "cell_type": "code",
   "execution_count": null,
   "id": "fbb4acc0",
   "metadata": {},
   "outputs": [],
   "source": []
  }
 ],
 "metadata": {
  "kernelspec": {
   "display_name": "Python 3 (ipykernel)",
   "language": "python",
   "name": "python3"
  },
  "language_info": {
   "codemirror_mode": {
    "name": "ipython",
    "version": 3
   },
   "file_extension": ".py",
   "mimetype": "text/x-python",
   "name": "python",
   "nbconvert_exporter": "python",
   "pygments_lexer": "ipython3",
   "version": "3.10.4"
  }
 },
 "nbformat": 4,
 "nbformat_minor": 5
}
